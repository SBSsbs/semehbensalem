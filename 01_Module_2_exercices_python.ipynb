{
  "cells": [
    {
      "cell_type": "markdown",
      "metadata": {
        "id": "view-in-github",
        "colab_type": "text"
      },
      "source": [
        "<a href=\"https://colab.research.google.com/github/SBSsbs/semehbensalem/blob/master/01_Module_2_exercices_python.ipynb\" target=\"_parent\"><img src=\"https://colab.research.google.com/assets/colab-badge.svg\" alt=\"Open In Colab\"/></a>"
      ]
    },
    {
      "cell_type": "markdown",
      "source": [
        "Mes premiers pas avec Python"
      ],
      "metadata": {
        "id": "MpgtDYOmVXs2"
      }
    },
    {
      "cell_type": "code",
      "source": [
        "import matplotlib.pyplot as plt\n",
        "\n",
        "activities = ['eat', 'sleep', 'work', 'play']\n",
        "  \n",
        "# portion covered by each label\n",
        "slices = [5, 2, 6, 4]\n",
        "  \n",
        "# color for each label\n",
        "colors = ['r', 'y', 'g', 'b']\n",
        "  \n",
        "# plotting the pie chart\n",
        "plt.pie(slices, labels = activities, colors=colors, \n",
        "        startangle=90, shadow = True, explode = (0, 0, 0.1, 0),\n",
        "        radius = 1.2, autopct = '%1.1f%%')\n",
        "  \n",
        "# plotting legend\n",
        "plt.legend()\n",
        "  \n",
        "# showing the plot\n",
        "plt.show()"
      ],
      "metadata": {
        "colab": {
          "base_uri": "https://localhost:8080/",
          "height": 253
        },
        "id": "sIOb_LS5QRru",
        "outputId": "305025d6-6c2a-44f3-ea1a-1bbc945431a5"
      },
      "execution_count": 14,
      "outputs": [
        {
          "output_type": "display_data",
          "data": {
            "text/plain": [
              "<Figure size 432x288 with 1 Axes>"
            ],
            "image/png": "[encoded data removed]"
          },
          "metadata": {}
        }
      ]
    },
    {
      "cell_type": "code",
      "execution_count": null,
      "metadata": {
        "colab": {
          "base_uri": "https://localhost:8080/"
        },
        "id": "YJTzSTS03a_z",
        "outputId": "4dc11069-9156-4ec4-99fe-f730ecf55dbd"
      },
      "outputs": [
        {
          "name": "stdout",
          "output_type": "stream",
          "text": [
            "Problème lors de l'ouverture du fichier. Vérifier si le fichier existe ou non et si le nom est correcte\n"
          ]
        }
      ],
      "source": [
        "try:\n",
        "  f = open(\"demofile.txt\")\n",
        "  try:\n",
        "    f.write(\"Bonjour à vous pour cette formation Python\")\n",
        "  except:\n",
        "    print(\"Problème lors de l'écriture dans le fichier\")\n",
        "  finally:\n",
        "    f.close()\n",
        "    print('données ajoutées avec succès')\n",
        "except:\n",
        "  print(\"Problème lors de l'ouverture du fichier. Vérifier si le fichier existe ou non et si le nom est correcte\") "
      ]
    },
    {
      "cell_type": "code",
      "execution_count": null,
      "metadata": {
        "colab": {
          "background_save": true
        },
        "id": "ExPB4vAoDXG2",
        "outputId": "f3b84420-6bc2-47bd-a00f-ae0437c7c56d"
      },
      "outputs": [
        {
          "data": {
            "text/plain": [
              "1"
            ]
          },
          "execution_count": 2,
          "metadata": {},
          "output_type": "execute_result"
        }
      ],
      "source": [
        "test_var = 0\n",
        "\n",
        "def test_func(test_var):\n",
        "    test_var += 1\n",
        "    return test_var\n",
        "\n",
        "test_func(test_var)"
      ]
    },
    {
      "cell_type": "code",
      "execution_count": null,
      "metadata": {
        "colab": {
          "base_uri": "https://localhost:8080/",
          "height": 241
        },
        "id": "jLCTVngi3ce1",
        "outputId": "732b60ab-91fc-4bcc-9dcf-5ce36be3c4a2"
      },
      "outputs": [
        {
          "ename": "NameError",
          "evalue": "ignored",
          "output_type": "error",
          "traceback": [
            "\u001b[0;31m---------------------------------------------------------------------------\u001b[0m",
            "\u001b[0;31mNameError\u001b[0m                                 Traceback (most recent call last)",
            "\u001b[0;32m<ipython-input-1-8bd57b37021e>\u001b[0m in \u001b[0;36m<module>\u001b[0;34m()\u001b[0m\n\u001b[1;32m      8\u001b[0m \u001b[0;34m\u001b[0m\u001b[0m\n\u001b[1;32m      9\u001b[0m \u001b[0;32mtry\u001b[0m\u001b[0;34m:\u001b[0m\u001b[0;34m\u001b[0m\u001b[0;34m\u001b[0m\u001b[0m\n\u001b[0;32m---> 10\u001b[0;31m     \u001b[0mfunc\u001b[0m\u001b[0;34m(\u001b[0m\u001b[0mb\u001b[0m\u001b[0;34m)\u001b[0m\u001b[0;34m\u001b[0m\u001b[0;34m\u001b[0m\u001b[0m\n\u001b[0m\u001b[1;32m     11\u001b[0m \u001b[0;32mexcept\u001b[0m\u001b[0;34m(\u001b[0m\u001b[0mTypeError\u001b[0m\u001b[0;34m)\u001b[0m\u001b[0;32mas\u001b[0m \u001b[0me\u001b[0m\u001b[0;34m:\u001b[0m\u001b[0;34m\u001b[0m\u001b[0;34m\u001b[0m\u001b[0m\n\u001b[1;32m     12\u001b[0m     \u001b[0mprint\u001b[0m\u001b[0;34m(\u001b[0m\u001b[0me\u001b[0m\u001b[0;34m)\u001b[0m\u001b[0;34m\u001b[0m\u001b[0;34m\u001b[0m\u001b[0m\n",
            "\u001b[0;31mNameError\u001b[0m: name 'b' is not defined"
          ]
        }
      ],
      "source": [
        "\n",
        "strs = \"hello\"\n",
        " \n",
        "def func(b):\n",
        "\n",
        "    res = b + 1\n",
        "    print(res)\n",
        " \n",
        "try:\n",
        "    func(b)\n",
        "except(TypeError)as e:\n",
        "    print(e)\n",
        "except(UnboundLocalError) as e:\n",
        "    print(e)"
      ]
    },
    {
      "cell_type": "code",
      "execution_count": null,
      "metadata": {
        "colab": {
          "base_uri": "https://localhost:8080/"
        },
        "id": "twkzb0cYBp_1",
        "outputId": "d55e8a39-22ef-4a98-dd20-34dae756f7e8"
      },
      "outputs": [
        {
          "name": "stdout",
          "output_type": "stream",
          "text": [
            "1hello\n"
          ]
        }
      ],
      "source": [
        "a = 1\n",
        "strs = \"hello\"\n",
        " \n",
        "def func(a):\n",
        "    res = str(a) + strs\n",
        "    print(res)\n",
        "    \n",
        "func(a)"
      ]
    },
    {
      "cell_type": "code",
      "execution_count": null,
      "metadata": {
        "id": "S6IHJ2Da3chy",
        "outputId": "dedb316c-ddaa-4576-d334-d3349ef019ee",
        "colab": {
          "base_uri": "https://localhost:8080/"
        }
      },
      "outputs": [
        {
          "output_type": "stream",
          "name": "stdout",
          "text": [
            "\n",
            "Here is a list of the Python keywords.  Enter any keyword to get more help.\n",
            "\n",
            "False               class               from                or\n",
            "None                continue            global              pass\n",
            "True                def                 if                  raise\n",
            "and                 del                 import              return\n",
            "as                  elif                in                  try\n",
            "assert              else                is                  while\n",
            "async               except              lambda              with\n",
            "await               finally             nonlocal            yield\n",
            "break               for                 not                 \n",
            "\n"
          ]
        }
      ],
      "source": [
        "help(\"keywords\")"
      ]
    },
    {
      "cell_type": "code",
      "execution_count": null,
      "metadata": {
        "id": "By2oVElgcR3c"
      },
      "outputs": [],
      "source": [
        "# -*- Exercice N°1 -*-\n",
        "\"\"\"Volume d'un cône droit.\"\"\"\n",
        "\n",
        "# Import ~~~~~~~~~~~~~~~~~~~~~~~~~~~~~~~~~~~~~~~~~~~~~~~~~~~~~~~~~~~~~~~~~~~~~~\n",
        "from math import pi\n",
        "\n",
        "# Programme principal =========================================================\n",
        "rayon = float(input(\"Rayon du cône (m) :\"))\n",
        "hauteur = float(input(\"Hauteur du cône (m) :\"))\n",
        "\n",
        "volume = (pi*rayon*rayon*hauteur)/3.0\n",
        "print(\"Volume du cône =\", volume, \"m3\")"
      ]
    },
    {
      "cell_type": "code",
      "execution_count": null,
      "metadata": {
        "id": "SMEQtl0CcR6C"
      },
      "outputs": [],
      "source": [
        "# -*- Exercice N°2 -*-\n",
        "\"\"\"Calcul d'un prix TTC.\"\"\"\n",
        "\n",
        "# Programme principal =========================================================\n",
        "prixHT = float(input(\"Prix HT (0 pour terminer) ?\"))\n",
        "while prixHT > 0:\n",
        "    print(\"Prix TTC : { :.2f}\\n\".format(prixHT * 1.196))\n",
        "    prixHT = float(input(\"Prix HT (0 pour terminer) ?\"))\n",
        "\n",
        "print(\"Au revoir !\")"
      ]
    },
    {
      "cell_type": "code",
      "execution_count": null,
      "metadata": {
        "colab": {
          "base_uri": "https://localhost:8080/"
        },
        "id": "bBGLE4HTcR-a",
        "outputId": "da174378-b48e-4745-a9e9-855f73ae323f"
      },
      "outputs": [
        {
          "name": "stdout",
          "output_type": "stream",
          "text": [
            "x (0 pour terminer) ?14\n",
            "x (0 pour terminer) ?12\n",
            "x (0 pour terminer) ?0\n",
            "\n",
            "Somme : 26\n",
            "2 valeur(s) en tout, dont 0 supérieure(s) à 100\n"
          ]
        }
      ],
      "source": [
        "# -*- Exercice N°3 -*-\n",
        "\"\"\"Somme d'entiers et nombre d'entiers supérieurs à 100.\"\"\"\n",
        "\n",
        "# Programme principal =========================================================\n",
        "somme, nombreTotal, nombreGrands = 0, 0, 0\n",
        "\n",
        "x = int(input(\"x (0 pour terminer) ?\"))\n",
        "while x > 0:\n",
        "    somme += x\n",
        "    nombreTotal += 1\n",
        "    if x > 100:\n",
        "        nombreGrands += 1\n",
        "    x = int(input(\"x (0 pour terminer) ?\"))\n",
        "\n",
        "print(\"\\nSomme :\", somme)\n",
        "print(nombreTotal, \"valeur(s) en tout, dont\", nombreGrands, \"supérieure(s) à 100\")"
      ]
    },
    {
      "cell_type": "code",
      "execution_count": null,
      "metadata": {
        "id": "2xb3iw7ccSAC"
      },
      "outputs": [],
      "source": [
        "# -*- Exercice N°4 -*-\n",
        "\"\"\"Parité.\"\"\"\n",
        "\n",
        "# Programme principal =========================================================\n",
        "n = int(input(\"Entrez un entier strictement positif :\"))\n",
        "while n < 1:\n",
        "    n = int(input(\"Entrez un entier STRICTEMENT POSITIF, s.v.p. :\"))\n",
        "\n",
        "if n%2 == 0:\n",
        "    print(n, \"est pair.\")\n",
        "else :\n",
        "    print(n, \"est impair.\")"
      ]
    },
    {
      "cell_type": "code",
      "execution_count": null,
      "metadata": {
        "id": "MzsQbnAHcSCf"
      },
      "outputs": [],
      "source": [
        "# -*- Exercice N°5 -*-\n",
        "\"\"\"Nombre de fois qu'un entier est divisible par 2.\"\"\"\n",
        "\n",
        "# Programme principal =========================================================\n",
        "n = int(input(\"Entrez un entier strictement positif :\"))\n",
        "while n < 1:\n",
        "    n = int(input(\"Entrez un entier STRICTEMENT POSITIF, s.v.p. :\"))\n",
        "save = n\n",
        "\n",
        "cpt = 0\n",
        "while n%2 == 0:\n",
        "    n /= 2\n",
        "    cpt += 1\n",
        "\n",
        "print(save, \"est\", cpt, \"fois divisible par 2.\")"
      ]
    },
    {
      "cell_type": "code",
      "execution_count": null,
      "metadata": {
        "id": "Jbr7m-lJcSFK"
      },
      "outputs": [],
      "source": [
        "# -*- Exercice N°6 -*-\n",
        "\"\"\"Diviseurs propres d'un entier.\"\"\"\n",
        "\n",
        "# Programme principal =========================================================\n",
        "n = int(input(\"Entrez un entier strictement positif :\"))\n",
        "while n < 1:\n",
        "    n = int(input(\"Entrez un entier STRICTEMENT POSITIF, s.v.p. :\"))\n",
        "\n",
        "i = 2 # plus petit diviseur possible de n\n",
        "cpt = 0 # initialise le compteur de divisions\n",
        "p = n/2 # calculé une fois dans la boucle\n",
        "\n",
        "print(\"Diviseurs propres sans répétition de\", n, \" :\", end=' ')\n",
        "while i <= p :\n",
        "    if n%i == 0:\n",
        "        cpt += 1\n",
        "        print(i, end=' ')\n",
        "    i += 1\n",
        "\n",
        "if not cpt :\n",
        "    print(\"aucun ! Il est premier.\")\n",
        "else :\n",
        "    print(\"(soit\", cpt, \"diviseurs propres)\")"
      ]
    },
    {
      "cell_type": "code",
      "execution_count": null,
      "metadata": {
        "id": "44jV5sk4bbWB",
        "outputId": "6267fff0-9a86-4c66-fc69-a2fc13f7dfb6"
      },
      "outputs": [
        {
          "name": "stdout",
          "output_type": "stream",
          "text": [
            "Voici notre quiz, tu as trois chances !\n",
            "Combien de fois la France a gagné la coupe du monde ?3\n",
            "Dommage ! Il te reste 2 chances\n",
            "Combien de fois la France a gagné la coupe du monde ?4\n",
            "Dommage ! Il te reste 1 chances\n",
            "Combien de fois la France a gagné la coupe du monde ?5\n",
            "Dommage ! Il te reste 0 chances\n",
            "Combien de fois la France a gagné la coupe du monde ?6\n",
            "Oh non ! Tu as perdu le jeu...\n"
          ]
        }
      ],
      "source": [
        "# -*- Exercice N°7 -*-\n",
        "\n",
        "nb_de_chances = 3\n",
        "\n",
        "print(\"Voici notre quiz, tu as trois chances !\")\n",
        "question1= input(\"Combien de fois la France a gagné la coupe du monde ?\")\n",
        "\n",
        "while question1 != \"2\":\n",
        "    if nb_de_chances == 0:\n",
        "        print(\"Oh non ! Tu as perdu le jeu...\")\n",
        "        break\n",
        "    else:\n",
        "        nb_de_chances -= 1\n",
        "        print(\"Dommage ! Il te reste {} chances\".format(nb_de_chances))\n",
        "        question1 = input(\"Combien de fois la France a gagné la coupe du monde ?\")\n",
        "\n",
        "if nb_de_chances > 0:\n",
        "    question2 = input(\"Quand a été fondé Apple\")\n",
        "    while question2 != \"1976\":\n",
        "        if nb_de_chances == 0:\n",
        "            print(\"Oh non ! Tu as perdu le jeu...\")\n",
        "            break\n",
        "        else:\n",
        "            nb_de_chances -=1\n",
        "            print(\"Dommage ! Il te reste {} chances\".format(nb_de_chances))\n",
        "            question2 = input(\"Quand a été fondé Apple ?\")\n",
        "\n",
        "\n",
        "if nb_de_chances >0:\n",
        "    question3 = input(\"Qui a fondé SpaceX\")\n",
        "    question3 = question3.lower()\n",
        "    while question3 != \"elon musk\":\n",
        "        if nb_de_chances == 0:\n",
        "            print(\"Oh non ! Tu as perdu le jeu...\")\n",
        "            break\n",
        "        else:\n",
        "            nb_de_chances -=1\n",
        "            print(\"Dommage ! Il te reste {} chances\".format(nb_de_chances))\n",
        "            question3 = input(\"Qui a fondé SpaceX\")\n",
        "            question3 = question3.lower()\n",
        "    if question3 == \"elon musk\":\n",
        "        print(\"Bravo ! Tu as gagné le quiz !\")"
      ]
    }
  ],
  "metadata": {
    "colab": {
      "collapsed_sections": [],
      "name": "01_Module_2_exercices_python.ipynb",
      "provenance": [],
      "include_colab_link": true
    },
    "kernelspec": {
      "display_name": "Python 3",
      "language": "python",
      "name": "python3"
    },
    "language_info": {
      "codemirror_mode": {
        "name": "ipython",
        "version": 3
      },
      "file_extension": ".py",
      "mimetype": "text/x-python",
      "name": "python",
      "nbconvert_exporter": "python",
      "pygments_lexer": "ipython3",
      "version": "3.6.5"
    },
    "gpuClass": "standard"
  },
  "nbformat": 4,
  "nbformat_minor": 0
}